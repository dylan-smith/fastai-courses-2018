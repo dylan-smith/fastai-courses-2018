{
 "cells": [
  {
   "cell_type": "markdown",
   "metadata": {
    "toc": true
   },
   "source": [
    "<h1>FastAI library basics<span class=\"tocSkip\"></span></h1>\n",
    "<div class=\"toc\"><ul class=\"toc-item\"><li><span><a href=\"#Installation\" data-toc-modified-id=\"Installation-1\"><span class=\"toc-item-num\">1&nbsp;&nbsp;</span>Installation</a></span><ul class=\"toc-item\"><li><span><a href=\"#Local\" data-toc-modified-id=\"Local-1.1\"><span class=\"toc-item-num\">1.1&nbsp;&nbsp;</span>Local</a></span></li><li><span><a href=\"#Google-Colab\" data-toc-modified-id=\"Google-Colab-1.2\"><span class=\"toc-item-num\">1.2&nbsp;&nbsp;</span>Google Colab</a></span></li></ul></li><li><span><a href=\"#Functions-(v0.7)\" data-toc-modified-id=\"Functions-(v0.7)-2\"><span class=\"toc-item-num\">2&nbsp;&nbsp;</span>Functions (v0.7)</a></span><ul class=\"toc-item\"><li><span><a href=\"#Data-pre-processing\" data-toc-modified-id=\"Data-pre-processing-2.1\"><span class=\"toc-item-num\">2.1&nbsp;&nbsp;</span>Data pre-processing</a></span><ul class=\"toc-item\"><li><span><a href=\"#add_datepart\" data-toc-modified-id=\"add_datepart-2.1.1\"><span class=\"toc-item-num\">2.1.1&nbsp;&nbsp;</span>add_datepart</a></span></li><li><span><a href=\"#train_cats\" data-toc-modified-id=\"train_cats-2.1.2\"><span class=\"toc-item-num\">2.1.2&nbsp;&nbsp;</span>train_cats</a></span></li><li><span><a href=\"#apply_cats\" data-toc-modified-id=\"apply_cats-2.1.3\"><span class=\"toc-item-num\">2.1.3&nbsp;&nbsp;</span>apply_cats</a></span></li><li><span><a href=\"#proc_df\" data-toc-modified-id=\"proc_df-2.1.4\"><span class=\"toc-item-num\">2.1.4&nbsp;&nbsp;</span>proc_df</a></span></li></ul></li></ul></li></ul></div>"
   ]
  },
  {
   "cell_type": "markdown",
   "metadata": {},
   "source": [
    "In this notebook I'll explain the most useful bits of the **fastai** library :)"
   ]
  },
  {
   "cell_type": "code",
   "execution_count": 1,
   "metadata": {},
   "outputs": [],
   "source": [
    "from fastai.imports import *\n",
    "from fastai.structured import *"
   ]
  },
  {
   "cell_type": "markdown",
   "metadata": {},
   "source": [
    "# Installation\n",
    "\n",
    "## Local\n",
    "1. Clone https://github.com/fastai/fastai repo.\n",
    "2. Follow the Readme.\n",
    " * For ML course: https://forums.fast.ai/t/fastai-v0-7-install-issues-thread/24652\n",
    " * If you are on Windows: https://forums.fast.ai/t/howto-installation-on-windows/10439?source_topic_id=10663\n",
    "3. Install PyTorch: https://pytorch.org/get-started/locally/\n",
    "\t```\n",
    "\tconda install pytorch torchvision cudatoolkit=9.0 -c pytorch\n",
    "    ```\n",
    "    \n",
    "4. Install additional modules: https://medium.com/@GuruAtWork/fast-ai-lesson-1-7fc38e978d37\n",
    "5. To include fast.ai 0.7 in your anaconda environment (Windows), so every project inside your env can use it:\n",
    "\t```\n",
    "\t[C:\\Users\\<User>\\.conda\\envs\\<env>\\Lib\\site-packages >]\n",
    "    mklink /J fastai C:\\Users\\<User>\\Dropbox\\DEV\\projects\\cloned\\fastai\\old\\fastai\n",
    "    ```\n",
    "\n",
    "## Google Colab\n",
    " * Follow [this article](https://medium.com/@prakash_31206/fastest-way-to-setup-fast-ai-course-notebooks-for-free-using-google-colab-gpu-and-clouderizer-c8a004e1d50d)"
   ]
  },
  {
   "cell_type": "markdown",
   "metadata": {},
   "source": [
    "# Functions (v0.7)\n",
    "\n",
    "## Data pre-processing\n",
    "\n",
    "FastAI gives the data scientists very useful functions to prepare datasets before feeding ML algorithms.\n",
    "\n",
    "### add_datepart\n",
    "\n",
    "`add_datepart(df, fldname, drop=True, time=False, errors=\"raise\")`\n",
    "\n",
    "Converts a column of the dataframe `df` from datetime64 to several columns containing the information from the date. The original column will be dropped by default.\n",
    "This applies changes inplace.\n",
    "\n",
    "\n",
    "Code:\n",
    "\n",
    "```\n",
    "    fld = df[fldname]\n",
    "    fld_dtype = fld.dtype\n",
    "    if isinstance(fld_dtype, pd.core.dtypes.dtypes.DatetimeTZDtype):\n",
    "        fld_dtype = np.datetime64\n",
    "\n",
    "    if not np.issubdtype(fld_dtype, np.datetime64):\n",
    "        df[fldname] = fld = pd.to_datetime(fld, infer_datetime_format=True, errors=errors)\n",
    "    targ_pre = re.sub('[Dd]ate$', '', fldname)\n",
    "    attr = ['Year', 'Month', 'Week', 'Day', 'Dayofweek', 'Dayofyear',\n",
    "            'Is_month_end', 'Is_month_start', 'Is_quarter_end', 'Is_quarter_start', 'Is_year_end', 'Is_year_start']\n",
    "    if time: attr = attr + ['Hour', 'Minute', 'Second']\n",
    "    for n in attr: df[targ_pre + n] = getattr(fld.dt, n.lower())\n",
    "    df[targ_pre + 'Elapsed'] = fld.astype(np.int64) // 10 ** 9\n",
    "    if drop: df.drop(fldname, axis=1, inplace=True)\n",
    "```"
   ]
  },
  {
   "cell_type": "markdown",
   "metadata": {},
   "source": [
    "### train_cats\n",
    "\n",
    "`train_cats(df)`\n",
    "\n",
    "Change any column of string values in a Pandas dataframe (`df`) to a column of categorical values (from object to category type).\n",
    "Applies the changes in place.\n",
    "\n",
    "Code:\n",
    "\n",
    "```\n",
    "for n,c in df.items():\n",
    "        if is_string_dtype(c): df[n] = c.astype('category').cat.as_ordered()\n",
    "```"
   ]
  },
  {
   "cell_type": "markdown",
   "metadata": {},
   "source": [
    "### apply_cats\n",
    "\n",
    "`apply_cats(df, trn)`\n",
    "\n",
    "Change any column of string values in a Pandas dataframe (`df`) to a column of categorical values (from object to category type), using another dataframe (`trn`) as template for the category codes, so the mapping category - code will be the same in df as in trn.\n",
    "Applies the changes in place.\n",
    "\n",
    "Code:\n",
    "\n",
    "```\n",
    "for n,c in df.items():\n",
    "    if (n in trn.columns) and (trn[n].dtype.name=='category'):\n",
    "        df[n] = c.astype('category').cat.as_ordered()\n",
    "        df[n].cat.set_categories(trn[n].cat.categories, ordered=True, inplace=True)\n",
    "```"
   ]
  },
  {
   "cell_type": "markdown",
   "metadata": {},
   "source": [
    "### proc_df\n",
    "\n",
    "`proc_df(df, y_fld=None, skip_flds=None, ignore_flds=None, do_scale=False, na_dict=None, preproc_fn=None, max_n_cat=None, subset=None, mapper=None)`\n",
    "\n",
    "Basic example:\n",
    "`df, y, nas, mapper = proc_df(df, 'ColumnName', do_scale=True)`\n",
    "\n",
    "Takes a dataframe (`df`) as input and:\n",
    " * splits off the response variable, if `y_fld` is filled.\n",
    " * changes the columns of type category to numeric, adding 1 to the Pandas category code (so -1, the code for NA values, is replaced by 0; and 0 by 1, 1 by 2, etc).\n",
    " * for each numeric column of df which is not in `skip_flds` nor in `ignore_flds`, NA values are replaced by the median value of the column. A new boolean column is created with the same name of the original one followed by the *_na* suffix, containing the replaced rows.\n",
    " * applies a preprocessing function if specified in the `preproc_fn` field.\n",
    " * applies normalization (mean 0, std dev 1) if specified with the `do_scale` parameter (recommended for linear models)\n",
    " * returns the resulting dataframe, the target variable, and a dictionary with the name of the added columns (so it can be passed in the `na_dict` field for validation/test datasets). An additional `mapper` is returned if do_scale=True (so the same normalization can be applied to the validation/test datasets).\n",
    "\n",
    "Code:\n",
    "\n",
    "```\n",
    "if not ignore_flds: ignore_flds=[]\n",
    "if not skip_flds: skip_flds=[]\n",
    "if subset: df = get_sample(df,subset)\n",
    "else: df = df.copy()\n",
    "ignored_flds = df.loc[:, ignore_flds]\n",
    "df.drop(ignore_flds, axis=1, inplace=True)\n",
    "if preproc_fn: preproc_fn(df)\n",
    "if y_fld is None: y = None\n",
    "else:\n",
    "    if not is_numeric_dtype(df[y_fld]): df[y_fld] = pd.Categorical(df[y_fld]).codes\n",
    "    y = df[y_fld].values\n",
    "    skip_flds += [y_fld]\n",
    "df.drop(skip_flds, axis=1, inplace=True)\n",
    "\n",
    "if na_dict is None: na_dict = {}\n",
    "else: na_dict = na_dict.copy()\n",
    "na_dict_initial = na_dict.copy()\n",
    "for n,c in df.items(): na_dict = fix_missing(df, c, n, na_dict)\n",
    "if len(na_dict_initial.keys()) > 0:\n",
    "    df.drop([a + '_na' for a in list(set(na_dict.keys()) - set(na_dict_initial.keys()))], axis=1, inplace=True)\n",
    "if do_scale: mapper = scale_vars(df, mapper)\n",
    "for n,c in df.items(): numericalize(df, c, n, max_n_cat)\n",
    "df = pd.get_dummies(df, dummy_na=True)\n",
    "df = pd.concat([ignored_flds, df], axis=1)\n",
    "res = [df, y, na_dict]\n",
    "if do_scale: res = res + [mapper]\n",
    "return res\n",
    "```"
   ]
  }
 ],
 "metadata": {
  "kernelspec": {
   "display_name": "Python 3",
   "language": "python",
   "name": "python3"
  },
  "language_info": {
   "codemirror_mode": {
    "name": "ipython",
    "version": 3
   },
   "file_extension": ".py",
   "mimetype": "text/x-python",
   "name": "python",
   "nbconvert_exporter": "python",
   "pygments_lexer": "ipython3",
   "version": "3.6.8"
  },
  "toc": {
   "base_numbering": 1,
   "nav_menu": {},
   "number_sections": true,
   "sideBar": true,
   "skip_h1_title": false,
   "title_cell": "FastAI library basics",
   "title_sidebar": "Contents",
   "toc_cell": true,
   "toc_position": {},
   "toc_section_display": true,
   "toc_window_display": true
  }
 },
 "nbformat": 4,
 "nbformat_minor": 2
}
